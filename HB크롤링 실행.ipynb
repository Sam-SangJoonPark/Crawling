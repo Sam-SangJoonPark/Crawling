{
 "cells": [
  {
   "cell_type": "code",
   "execution_count": 1,
   "metadata": {},
   "outputs": [],
   "source": [
    "import pandas as pd\n",
    "import requests\n",
    "from bs4 import BeautifulSoup\n",
    "import random\n",
    "import time\n",
    "from tqdm import tqdm, trange\n",
    "import re\n",
    "from webdriver_manager.chrome import ChromeDriverManager\n",
    "from selenium import webdriver\n",
    "\n",
    "driver = webdriver.Chrome(ChromeDriverManager().install())\n",
    "driver.get('https://www.bedsonline.com/login?error_code=NLSA&app=null&url_destination=/main')\n",
    "driver.implicitly_wait(1)\n",
    "\n",
    "driver.find_element_by_xpath('//*[@id=\"username\"]').send_keys('ERIKLEE802')\n",
    "driver.implicitly_wait(0.5)\n",
    "driver.find_element_by_xpath('//*[@id=\"password\"]').send_keys('asdf1234')\n",
    "driver.implicitly_wait(0.5)\n",
    "driver.find_element_by_xpath('//*[@id=\"login_form\"]/div[3]/button').click()\n",
    "driver.implicitly_wait(1)\n",
    "\n",
    "# 전체호텔리스트 페이지로\n",
    "driver.get('https://www.bedsonline.com/accommodation/productlist')\n",
    "\n",
    "# 이게 보니까 그 페이지 쿠키 가져오는거라 한번만 한다고 끝이 아니라 파싱할때마다 계속해야함\n",
    "s = requests.Session()\n",
    "# request는 헤더를 제대로 안줘서, 내 크롬정보에서 헤더 가져와서 넣어줌\n",
    "headers = { 'User-Agent' : 'Mozilla/5.0 (Windows NT 10.0; Win64; x64) AppleWebKit/537.36 (KHTML, like Gecko) Chrome/87.0.4280.88 Safari/537.36'}\n",
    "s.headers.update(headers)\n",
    "#driver.get_cookies() -  쿠키정보 저장하자! 이거 하면 로그인 정보를 저장함. ㅇㅇ\n",
    "for cookie in driver.get_cookies() :\n",
    "    c = {cookie['name'] : cookie['value']}\n",
    "    s.cookies.update(c)\n",
    "#s.cookies\n",
    "\n",
    "def get_cookie() :\n",
    "    # 이게 보니까 그 페이지 쿠키 가져오는거라 한번만 한다고 끝이 아니라 파싱할때마다 계속해야함\n",
    "    s = requests.Session()\n",
    "    # request는 헤더를 제대로 안줘서, 내 크롬정보에서 헤더 가져와서 넣어줌\n",
    "    headers = { 'User-Agent' : 'Mozilla/5.0 (Windows NT 10.0; Win64; x64) AppleWebKit/537.36 (KHTML, like Gecko) Chrome/87.0.4280.88 Safari/537.36'}\n",
    "    s.headers.update(headers)\n",
    "    #driver.get_cookies() -  쿠키정보 저장하자! 이거 하면 로그인 정보를 저장함. ㅇㅇ\n",
    "    for cookie in driver.get_cookies() :\n",
    "        c = {cookie['name'] : cookie['value']}\n",
    "        s.cookies.update(c)\n",
    "    #s.cookies\n",
    "\n",
    "get_cookie()\n",
    "\n",
    "# driver가 호텔 이미지 나온 그 사이트에 있어야 한다.\n",
    "def get_soup() :\n",
    "    response = s.get(driver.current_url)\n",
    "    soup = BeautifulSoup(response.text,'lxml')\n",
    "    soup = soup.find('main')\n",
    "    soup = soup.find('script')\n",
    "    return soup\n",
    "\n",
    "def get_jpg(soup) :\n",
    "    result = []\n",
    "    for url in soup.text.split('\"') :\n",
    "        if 'jpg' in url and 'bigger' in url :\n",
    "            result.append(url)\n",
    "    return result\n",
    "\n",
    "def what_hotel(num) :\n",
    "    driver.get(f'https://www.bedsonline.com/accommodation/factsheet?SID=4f6c138754d4cd0c57a0019fe1a3a27b&id={num}&do_request')\n",
    "\n",
    "def this_is_it(num) :\n",
    "    get_cookie()\n",
    "    what_hotel(num)\n",
    "    get_cookie()\n",
    "    soup = get_soup()\n",
    "    return get_jpg(soup)\n",
    "\n",
    "this_is_it(84997)\n",
    "\n",
    "df = pd.read_excel(r'C:\\Users\\USER\\Desktop\\호텔 매핑\\호주\\2차매핑_완료\\hb_Australia_matched_after_수기매핑 완료.xlsx')\n",
    "\n",
    "id_list = list(df['sub_HotelID'].values)[35:45]\n",
    "id_list\n",
    "\n",
    "# ok 된다/ 어떻게 저장할지는 더 고민\n",
    "for ids in id_list :\n",
    "    pd.DataFrame(this_is_it(ids)).to_csv(f'id_{ids}.csv')\n",
    "\n"
   ]
  },
  {
   "cell_type": "code",
   "execution_count": 2,
   "metadata": {
    "scrolled": true
   },
   "outputs": [
    {
     "name": "stderr",
     "output_type": "stream",
     "text": [
      "[WDM] - Current google-chrome version is 87.0.4280\n",
      "[WDM] - Get LATEST driver version for 87.0.4280\n",
      "[WDM] - Get LATEST driver version for 87.0.4280\n",
      "[WDM] - Trying to download new driver from http://chromedriver.storage.googleapis.com/87.0.4280.88/chromedriver_win32.zip\n"
     ]
    },
    {
     "name": "stdout",
     "output_type": "stream",
     "text": [
      " \n"
     ]
    },
    {
     "name": "stderr",
     "output_type": "stream",
     "text": [
      "[WDM] - Driver has been saved in cache [C:\\Users\\USER\\.wdm\\drivers\\chromedriver\\win32\\87.0.4280.88]\n"
     ]
    }
   ],
   "source": [
    "driver = webdriver.Chrome(ChromeDriverManager().install())\n",
    "driver.get('https://www.bedsonline.com/login?error_code=NLSA&app=null&url_destination=/main')\n",
    "driver.implicitly_wait(1)"
   ]
  },
  {
   "cell_type": "code",
   "execution_count": 3,
   "metadata": {},
   "outputs": [],
   "source": [
    "driver.find_element_by_xpath('//*[@id=\"username\"]').send_keys('ERIKLEE802')\n",
    "driver.implicitly_wait(0.5)\n",
    "driver.find_element_by_xpath('//*[@id=\"password\"]').send_keys('asdf1234')\n",
    "driver.implicitly_wait(0.5)\n",
    "driver.find_element_by_xpath('//*[@id=\"login_form\"]/div[3]/button').click()\n",
    "driver.implicitly_wait(1)"
   ]
  },
  {
   "cell_type": "code",
   "execution_count": 4,
   "metadata": {},
   "outputs": [],
   "source": [
    "# 전체호텔리스트 페이지로\n",
    "driver.get('https://www.bedsonline.com/accommodation/productlist')"
   ]
  },
  {
   "cell_type": "code",
   "execution_count": 5,
   "metadata": {},
   "outputs": [],
   "source": [
    "# 이게 보니까 그 페이지 쿠키 가져오는거라 한번만 한다고 끝이 아니라 파싱할때마다 계속해야함\n",
    "s = requests.Session()\n",
    "# request는 헤더를 제대로 안줘서, 내 크롬정보에서 헤더 가져와서 넣어줌\n",
    "headers = { 'User-Agent' : 'Mozilla/5.0 (Windows NT 10.0; Win64; x64) AppleWebKit/537.36 (KHTML, like Gecko) Chrome/87.0.4280.88 Safari/537.36'}\n",
    "s.headers.update(headers)\n",
    "#driver.get_cookies() -  쿠키정보 저장하자! 이거 하면 로그인 정보를 저장함. ㅇㅇ\n",
    "for cookie in driver.get_cookies() :\n",
    "    c = {cookie['name'] : cookie['value']}\n",
    "    s.cookies.update(c)\n",
    "#s.cookies"
   ]
  },
  {
   "cell_type": "code",
   "execution_count": 6,
   "metadata": {},
   "outputs": [],
   "source": [
    "def get_cookie() :\n",
    "    # 이게 보니까 그 페이지 쿠키 가져오는거라 한번만 한다고 끝이 아니라 파싱할때마다 계속해야함\n",
    "    s = requests.Session()\n",
    "    # request는 헤더를 제대로 안줘서, 내 크롬정보에서 헤더 가져와서 넣어줌\n",
    "    headers = { 'User-Agent' : 'Mozilla/5.0 (Windows NT 10.0; Win64; x64) AppleWebKit/537.36 (KHTML, like Gecko) Chrome/87.0.4280.88 Safari/537.36'}\n",
    "    s.headers.update(headers)\n",
    "    #driver.get_cookies() -  쿠키정보 저장하자! 이거 하면 로그인 정보를 저장함. ㅇㅇ\n",
    "    for cookie in driver.get_cookies() :\n",
    "        c = {cookie['name'] : cookie['value']}\n",
    "        s.cookies.update(c)\n",
    "    #s.cookies"
   ]
  },
  {
   "cell_type": "code",
   "execution_count": 7,
   "metadata": {},
   "outputs": [],
   "source": [
    "get_cookie()"
   ]
  },
  {
   "cell_type": "code",
   "execution_count": 8,
   "metadata": {},
   "outputs": [],
   "source": [
    "# driver가 호텔 이미지 나온 그 사이트에 있어야 한다.\n",
    "def get_soup() :\n",
    "    response = s.get(driver.current_url)\n",
    "    soup = BeautifulSoup(response.text,'lxml')\n",
    "    soup = soup.find('main')\n",
    "    soup = soup.find('script')\n",
    "    return soup"
   ]
  },
  {
   "cell_type": "code",
   "execution_count": 13,
   "metadata": {},
   "outputs": [],
   "source": [
    "def get_jpg(soup) :\n",
    "    result = []\n",
    "    for url in soup.text.split('\"') :\n",
    "        if 'jpg' in url and 'bigger' in url :\n",
    "            result.append(url)\n",
    "    return result"
   ]
  },
  {
   "cell_type": "code",
   "execution_count": 14,
   "metadata": {
    "scrolled": false
   },
   "outputs": [],
   "source": [
    "def what_hotel(num) :\n",
    "    driver.get(f'https://www.bedsonline.com/accommodation/factsheet?SID=4f6c138754d4cd0c57a0019fe1a3a27b&id={num}&do_request')"
   ]
  },
  {
   "cell_type": "code",
   "execution_count": 15,
   "metadata": {},
   "outputs": [],
   "source": [
    "def this_is_it(num) :\n",
    "    get_cookie()\n",
    "    what_hotel(num)\n",
    "    get_cookie()\n",
    "    soup = get_soup()\n",
    "    return get_jpg(soup)"
   ]
  },
  {
   "cell_type": "code",
   "execution_count": 26,
   "metadata": {},
   "outputs": [
    {
     "data": {
      "text/plain": [
       "['https://photos.hotelbeds.com/giata/bigger/08/084997/084997a_hb_a_051.jpg',\n",
       " 'https://photos.hotelbeds.com/giata/bigger/08/084997/084997a_hb_a_050.jpg',\n",
       " 'https://photos.hotelbeds.com/giata/bigger/08/084997/084997a_hb_l_012.jpg',\n",
       " 'https://photos.hotelbeds.com/giata/bigger/08/084997/084997a_hb_l_003.jpg',\n",
       " 'https://photos.hotelbeds.com/giata/bigger/08/084997/084997a_hb_l_013.jpg',\n",
       " 'https://photos.hotelbeds.com/giata/bigger/08/084997/084997a_hb_l_014.jpg',\n",
       " 'https://photos.hotelbeds.com/giata/bigger/08/084997/084997a_hb_w_003.jpg',\n",
       " 'https://photos.hotelbeds.com/giata/bigger/08/084997/084997a_hb_ro_007.jpg',\n",
       " 'https://photos.hotelbeds.com/giata/bigger/08/084997/084997a_hb_ro_016.jpg',\n",
       " 'https://photos.hotelbeds.com/giata/bigger/08/084997/084997a_hb_ro_023.jpg',\n",
       " 'https://photos.hotelbeds.com/giata/bigger/08/084997/084997a_hb_ro_025.jpg',\n",
       " 'https://photos.hotelbeds.com/giata/bigger/08/084997/084997a_hb_ro_028.jpg',\n",
       " 'https://photos.hotelbeds.com/giata/bigger/08/084997/084997a_hb_ro_029.jpg',\n",
       " 'https://photos.hotelbeds.com/giata/bigger/08/084997/084997a_hb_ro_031.jpg',\n",
       " 'https://photos.hotelbeds.com/giata/bigger/08/084997/084997a_hb_ro_032.jpg',\n",
       " 'https://photos.hotelbeds.com/giata/bigger/08/084997/084997a_hb_ro_033.jpg',\n",
       " 'https://photos.hotelbeds.com/giata/bigger/08/084997/084997a_hb_ro_036.jpg',\n",
       " 'https://photos.hotelbeds.com/giata/bigger/08/084997/084997a_hb_ro_037.jpg',\n",
       " 'https://photos.hotelbeds.com/giata/bigger/08/084997/084997a_hb_r_014.jpg',\n",
       " 'https://photos.hotelbeds.com/giata/bigger/08/084997/084997a_hb_r_015.jpg',\n",
       " 'https://photos.hotelbeds.com/giata/bigger/08/084997/084997a_hb_r_016.jpg',\n",
       " 'https://photos.hotelbeds.com/giata/bigger/08/084997/084997a_hb_f_002.jpg']"
      ]
     },
     "execution_count": 26,
     "metadata": {},
     "output_type": "execute_result"
    }
   ],
   "source": [
    "this_is_it(84997)"
   ]
  },
  {
   "cell_type": "code",
   "execution_count": 27,
   "metadata": {},
   "outputs": [],
   "source": [
    "df = pd.read_excel(r'C:\\Users\\USER\\Desktop\\호텔 매핑\\호주\\2차매핑_완료\\hb_Australia_matched_after_수기매핑 완료.xlsx')"
   ]
  },
  {
   "cell_type": "code",
   "execution_count": 28,
   "metadata": {},
   "outputs": [
    {
     "data": {
      "text/plain": [
       "[84996, 84997, 84997, 84998, 84999, 85046, 85047, 85117, 85117, 85146]"
      ]
     },
     "execution_count": 28,
     "metadata": {},
     "output_type": "execute_result"
    }
   ],
   "source": [
    "id_list = list(df['sub_HotelID'].values)[35:45]\n",
    "id_list"
   ]
  },
  {
   "cell_type": "code",
   "execution_count": 16,
   "metadata": {},
   "outputs": [],
   "source": [
    "# ok 된다/ 어떻게 저장할지는 더 고민\n",
    "for ids in id_list :\n",
    "    pd.DataFrame(this_is_it(ids)).to_csv(f'id_{ids}.csv')"
   ]
  },
  {
   "cell_type": "code",
   "execution_count": null,
   "metadata": {},
   "outputs": [],
   "source": []
  }
 ],
 "metadata": {
  "kernelspec": {
   "display_name": "Python 3",
   "language": "python",
   "name": "python3"
  },
  "language_info": {
   "codemirror_mode": {
    "name": "ipython",
    "version": 3
   },
   "file_extension": ".py",
   "mimetype": "text/x-python",
   "name": "python",
   "nbconvert_exporter": "python",
   "pygments_lexer": "ipython3",
   "version": "3.7.6"
  }
 },
 "nbformat": 4,
 "nbformat_minor": 4
}
