{
 "cells": [
  {
   "cell_type": "code",
   "execution_count": 3,
   "metadata": {},
   "outputs": [],
   "source": [
    "my_key =\"tB083Du1af8KVsh3YoWrtQBLVPMrN%2BCHPMqgpCK1yCG3ppe1ScXruS9Qajq%2FRxQk4RVdlNwShSnS1j6jp0NQxQ%3D%3D\""
   ]
  },
  {
   "cell_type": "code",
   "execution_count": 4,
   "metadata": {},
   "outputs": [],
   "source": [
    "url1 = \"http://apis.data.go.kr/B553077/api/open/sdsc/\"\n",
    "#my_key 서비스키\n",
    "\n",
    "# 긍께 서비스키 받아서 이 url 부분에다가 붙이면 들어가지는것임. 브라우저로도 가능!\n",
    "\n",
    "url2 = \"storeZoneInRadius?radius=500&cx=127.004528&cy=37.567538&ServiceKey=\"\n",
    "url3 = \"&type=json\""
   ]
  },
  {
   "cell_type": "code",
   "execution_count": 5,
   "metadata": {},
   "outputs": [],
   "source": [
    "url = url1 +url2 +my_key + url3"
   ]
  },
  {
   "cell_type": "code",
   "execution_count": 6,
   "metadata": {},
   "outputs": [
    {
     "data": {
      "text/plain": [
       "'http://apis.data.go.kr/B553077/api/open/sdsc/storeZoneInRadius?radius=500&cx=127.004528&cy=37.567538&ServiceKey=tB083Du1af8KVsh3YoWrtQBLVPMrN%2BCHPMqgpCK1yCG3ppe1ScXruS9Qajq%2FRxQk4RVdlNwShSnS1j6jp0NQxQ%3D%3D&type=json'"
      ]
     },
     "execution_count": 6,
     "metadata": {},
     "output_type": "execute_result"
    }
   ],
   "source": [
    "url\n",
    "\n",
    "# 브라우저로 검색하여 들어가자 ! "
   ]
  },
  {
   "cell_type": "code",
   "execution_count": 7,
   "metadata": {},
   "outputs": [
    {
     "data": {
      "text/plain": [
       "<http.client.HTTPResponse at 0x1e8e0363be0>"
      ]
     },
     "execution_count": 7,
     "metadata": {},
     "output_type": "execute_result"
    }
   ],
   "source": [
    "import urllib.request\n",
    "res = urllib.request.urlopen(url);res                                             "
   ]
  },
  {
   "cell_type": "code",
   "execution_count": 8,
   "metadata": {},
   "outputs": [
    {
     "data": {
      "text/plain": [
       "b'{\\n\\t\"header\" : {\\n\\t\\t\"description\" : \"\\xec\\x86\\x8c\\xec\\x83\\x81\\xea\\xb3\\xb5\\xec\\x9d\\xb8\\xec\\x8b\\x9c\\xec\\x9e\\xa5\\xec\\xa7\\x84\\xed\\x9d\\xa5\\xea\\xb3\\xb5\\xeb\\x8b\\xa8 \\xec\\xa3\\xbc\\xec\\x9a\\x94\\xec\\x83\\x81\\xea\\xb6\\x8c\"\\n\\t\\t,\"resultCode\" : \"00\"\\n\\t\\t,\"resultMsg\" : \"NORMAL SERVICE\"\\n\\t},\\n\\t\"body\" : {\\n\\t\\t\\t\"items\" : [\\n\\t\\t\\t\\t{\\n\\t\\t\\t\\t\"trarNo\" : 2214\\n\\t\\t\\t\\t,\"mainTrarNm\" : \"\\xec\\x9d\\x84\\xec\\xa7\\x80\\xeb\\xa1\\x9c4\\xea\\xb0\\x80\\xec\\x97\\xad\"\\n\\t\\t\\t\\t,\"ctprvnCd\" : \"11\"\\n\\t\\t\\t\\t,\"ctprvnNm\" : \"\\xec\\x84\\x9c\\xec\\x9a\\xb8\\xed\\x8a\\xb9\\xeb\\xb3\\x84\\xec\\x8b\\x9c\"\\n\\t\\t\\t\\t,\"signguCd\" : \"11140\"\\n\\t\\t\\t\\t,\"signguNm\" : \"\\xec\\xa4\\x91\\xea\\xb5\\xac\"\\n\\t\\t\\t\\t,\"trarArea\" : 88434.9\\n\\t\\t\\t\\t,\"coordNum\" : 8\\n\\t\\t\\t\\t,\"coords\" : \"POLYGON ((126.999081 37.566789, 127.002102 37.566937, 127.001981 37.568644, 127.001871 37.568655, 127.001873 37.569521, 126.998065 37.568812, 126.998213 37.566753, 126.999081 37.566789))\"\\n\\t\\t\\t\\t,\"stdrDt\" : \"2015-12-17\"\\n\\t\\t\\t\\t}\\n\\t\\t\\t\\t,{\\n\\t\\t\\t\\t\"trarNo\" : 2216\\n\\t\\t\\t\\t,\"mainTrarNm\" : \"\\xeb\\x8f\\x99\\xeb\\x8c\\x80\\xeb\\xac\\xb8\\xec\\x8b\\x9c\\xec\\x9e\\xa5\"\\n\\t\\t\\t\\t,\"ctprvnCd\" : \"11\"\\n\\t\\t\\t\\t,\"ctprvnNm\" : \"\\xec\\x84\\x9c\\xec\\x9a\\xb8\\xed\\x8a\\xb9\\xeb\\xb3\\x84\\xec\\x8b\\x9c\"\\n\\t\\t\\t\\t,\"signguCd\" : \"11140\"\\n\\t\\t\\t\\t,\"signguNm\" : \"\\xec\\xa4\\x91\\xea\\xb5\\xac\"\\n\\t\\t\\t\\t,\"trarArea\" : 68658\\n\\t\\t\\t\\t,\"coordNum\" : 15\\n\\t\\t\\t\\t,\"coords\" : \"POLYGON ((127.009453 37.568775, 127.009445 37.569396, 127.009558 37.569397, 127.009543 37.569686, 127.00659 37.569553, 127.006688 37.568112, 127.007709 37.567931, 127.007098 37.567124, 127.006951 37.56706, 127.006146 37.56717, 127.005929 37.566438, 127.007632 37.56611, 127.008198 37.566935, 127.008107 37.566979, 127.009453 37.568775))\"\\n\\t\\t\\t\\t,\"stdrDt\" : \"2015-12-17\"\\n\\t\\t\\t\\t}\\n\\t\\t\\t\\t,{\\n\\t\\t\\t\\t\"trarNo\" : 2207\\n\\t\\t\\t\\t,\"mainTrarNm\" : \"\\xeb\\x8f\\x99\\xeb\\x8c\\x80\\xeb\\xac\\xb8\\xec\\x97\\xad\\xec\\x82\\xac\\xeb\\xac\\xb8\\xed\\x99\\x94\\xea\\xb3\\xb5\\xec\\x9b\\x90\\xec\\x97\\xad\"\\n\\t\\t\\t\\t,\"ctprvnCd\" : \"11\"\\n\\t\\t\\t\\t,\"ctprvnNm\" : \"\\xec\\x84\\x9c\\xec\\x9a\\xb8\\xed\\x8a\\xb9\\xeb\\xb3\\x84\\xec\\x8b\\x9c\"\\n\\t\\t\\t\\t,\"signguCd\" : \"11140\"\\n\\t\\t\\t\\t,\"signguNm\" : \"\\xec\\xa4\\x91\\xea\\xb5\\xac\"\\n\\t\\t\\t\\t,\"trarArea\" : 81499.1\\n\\t\\t\\t\\t,\"coordNum\" : 8\\n\\t\\t\\t\\t,\"coords\" : \"POLYGON ((127.007565 37.565945, 127.004846 37.566394, 127.002877 37.566759, 127.002341 37.566737, 127.00252 37.5647, 127.004682 37.564852, 127.007062 37.564448, 127.007565 37.565945))\"\\n\\t\\t\\t\\t,\"stdrDt\" : \"2015-12-17\"\\n\\t\\t\\t\\t}\\n\\t\\t\\t\\t,{\\n\\t\\t\\t\\t\"trarNo\" : 2226\\n\\t\\t\\t\\t,\"mainTrarNm\" : \"\\xeb\\x8f\\x99\\xeb\\x8c\\x80\\xeb\\xac\\xb8\\xec\\x8b\\x9c\\xec\\x9e\\xa5\"\\n\\t\\t\\t\\t,\"ctprvnCd\" : \"11\"\\n\\t\\t\\t\\t,\"ctprvnNm\" : \"\\xec\\x84\\x9c\\xec\\x9a\\xb8\\xed\\x8a\\xb9\\xeb\\xb3\\x84\\xec\\x8b\\x9c\"\\n\\t\\t\\t\\t,\"signguCd\" : \"11110\"\\n\\t\\t\\t\\t,\"signguNm\" : \"\\xec\\xa2\\x85\\xeb\\xa1\\x9c\\xea\\xb5\\xac\"\\n\\t\\t\\t\\t,\"trarArea\" : 82364.6\\n\\t\\t\\t\\t,\"coordNum\" : 28\\n\\t\\t\\t\\t,\"coords\" : \"POLYGON ((127.009388 37.570565, 127.008984 37.571182, 127.008537 37.57103, 127.006426 37.570998, 127.00658 37.570351, 127.006482 37.570257, 127.006356 37.570327, 127.006198 37.57099, 127.005964 37.570986, 127.005915 37.570267, 127.005804 37.570193, 127.005691 37.570283, 127.005737 37.570983, 127.005376 37.570977, 127.005356 37.570376, 127.005244 37.570291, 127.00513 37.570373, 127.005149 37.570973, 127.003561 37.570947, 127.003571 37.570412, 127.003461 37.570336, 127.003348 37.570409, 127.003335 37.570944, 127.002014 37.570911, 127.002118 37.569718, 127.006712 37.569739, 127.009542 37.569875, 127.009388 37.570565))\"\\n\\t\\t\\t\\t,\"stdrDt\" : \"2015-12-17\"\\n\\t\\t\\t\\t}\\n\\t\\t\\t\\t,{\\n\\t\\t\\t\\t\"trarNo\" : 2225\\n\\t\\t\\t\\t,\"mainTrarNm\" : \"\\xec\\x84\\x9c\\xec\\x9a\\xb8 \\xec\\xa2\\x85\\xeb\\xa1\\x9c\\xea\\xb5\\xac \\xec\\xa2\\x85\\xeb\\xa1\\x9c5\\xea\\xb0\\x80\\xec\\x97\\xad_1\"\\n\\t\\t\\t\\t,\"ctprvnCd\" : \"11\"\\n\\t\\t\\t\\t,\"ctprvnNm\" : \"\\xec\\x84\\x9c\\xec\\x9a\\xb8\\xed\\x8a\\xb9\\xeb\\xb3\\x84\\xec\\x8b\\x9c\"\\n\\t\\t\\t\\t,\"signguCd\" : \"11110\"\\n\\t\\t\\t\\t,\"signguNm\" : \"\\xec\\xa2\\x85\\xeb\\xa1\\x9c\\xea\\xb5\\xac\"\\n\\t\\t\\t\\t,\"trarArea\" : 50246.7\\n\\t\\t\\t\\t,\"coordNum\" : 20\\n\\t\\t\\t\\t,\"coords\" : \"POLYGON ((127.001795 37.57082, 127.000088 37.570774, 127.000052 37.570281, 126.999763 37.57022, 126.99964 37.570323, 126.999836 37.570406, 126.999859 37.570757, 126.999321 37.570717, 126.999367 37.570303, 126.999265 37.570221, 126.999145 37.570287, 126.999096 37.5707, 126.999078 37.570524, 126.99887 37.570325, 126.998761 37.570381, 126.998725 37.570672, 126.997866 37.570624, 126.998052 37.568996, 127.001892 37.569705, 127.001795 37.57082))\"\\n\\t\\t\\t\\t,\"stdrDt\" : \"2015-12-17\"\\n\\t\\t\\t\\t}\\n\\t\\t\\t]\\n\\t}\\n}\\n'"
      ]
     },
     "execution_count": 8,
     "metadata": {},
     "output_type": "execute_result"
    }
   ],
   "source": [
    "# 주의!!!! res는 한번만 읽어오면 없어지나!!!!!진다!! 그니께 두번하면 ''나옴!!\n",
    "\n",
    "json_str = res.read(); json_str"
   ]
  },
  {
   "cell_type": "code",
   "execution_count": 9,
   "metadata": {},
   "outputs": [],
   "source": [
    " # 주의 이거 두 개는 같이 붙어있어야 한다 !!!!!\n",
    "    \n",
    "res = urllib.request.urlopen(url);res\n",
    "json_str = res.read().decode(\"utf-8\")  "
   ]
  },
  {
   "cell_type": "code",
   "execution_count": 10,
   "metadata": {},
   "outputs": [
    {
     "data": {
      "text/plain": [
       "'{\\n\\t\"header\" : {\\n\\t\\t\"description\" : \"소상공인시장진흥공단 주요상권\"\\n\\t\\t,\"resultCode\" : \"00\"\\n\\t\\t,\"resultMsg\" : \"NORMAL SERVICE\"\\n\\t},\\n\\t\"body\" : {\\n\\t\\t\\t\"items\" : [\\n\\t\\t\\t\\t{\\n\\t\\t\\t\\t\"trarNo\" : 2214\\n\\t\\t\\t\\t,\"mainTrarNm\" : \"을지로4가역\"\\n\\t\\t\\t\\t,\"ctprvnCd\" : \"11\"\\n\\t\\t\\t\\t,\"ctprvnNm\" : \"서울특별시\"\\n\\t\\t\\t\\t,\"signguCd\" : \"11140\"\\n\\t\\t\\t\\t,\"signguNm\" : \"중구\"\\n\\t\\t\\t\\t,\"trarArea\" : 88434.9\\n\\t\\t\\t\\t,\"coordNum\" : 8\\n\\t\\t\\t\\t,\"coords\" : \"POLYGON ((126.999081 37.566789, 127.002102 37.566937, 127.001981 37.568644, 127.001871 37.568655, 127.001873 37.569521, 126.998065 37.568812, 126.998213 37.566753, 126.999081 37.566789))\"\\n\\t\\t\\t\\t,\"stdrDt\" : \"2015-12-17\"\\n\\t\\t\\t\\t}\\n\\t\\t\\t\\t,{\\n\\t\\t\\t\\t\"trarNo\" : 2216\\n\\t\\t\\t\\t,\"mainTrarNm\" : \"동대문시장\"\\n\\t\\t\\t\\t,\"ctprvnCd\" : \"11\"\\n\\t\\t\\t\\t,\"ctprvnNm\" : \"서울특별시\"\\n\\t\\t\\t\\t,\"signguCd\" : \"11140\"\\n\\t\\t\\t\\t,\"signguNm\" : \"중구\"\\n\\t\\t\\t\\t,\"trarArea\" : 68658\\n\\t\\t\\t\\t,\"coordNum\" : 15\\n\\t\\t\\t\\t,\"coords\" : \"POLYGON ((127.009453 37.568775, 127.009445 37.569396, 127.009558 37.569397, 127.009543 37.569686, 127.00659 37.569553, 127.006688 37.568112, 127.007709 37.567931, 127.007098 37.567124, 127.006951 37.56706, 127.006146 37.56717, 127.005929 37.566438, 127.007632 37.56611, 127.008198 37.566935, 127.008107 37.566979, 127.009453 37.568775))\"\\n\\t\\t\\t\\t,\"stdrDt\" : \"2015-12-17\"\\n\\t\\t\\t\\t}\\n\\t\\t\\t\\t,{\\n\\t\\t\\t\\t\"trarNo\" : 2207\\n\\t\\t\\t\\t,\"mainTrarNm\" : \"동대문역사문화공원역\"\\n\\t\\t\\t\\t,\"ctprvnCd\" : \"11\"\\n\\t\\t\\t\\t,\"ctprvnNm\" : \"서울특별시\"\\n\\t\\t\\t\\t,\"signguCd\" : \"11140\"\\n\\t\\t\\t\\t,\"signguNm\" : \"중구\"\\n\\t\\t\\t\\t,\"trarArea\" : 81499.1\\n\\t\\t\\t\\t,\"coordNum\" : 8\\n\\t\\t\\t\\t,\"coords\" : \"POLYGON ((127.007565 37.565945, 127.004846 37.566394, 127.002877 37.566759, 127.002341 37.566737, 127.00252 37.5647, 127.004682 37.564852, 127.007062 37.564448, 127.007565 37.565945))\"\\n\\t\\t\\t\\t,\"stdrDt\" : \"2015-12-17\"\\n\\t\\t\\t\\t}\\n\\t\\t\\t\\t,{\\n\\t\\t\\t\\t\"trarNo\" : 2226\\n\\t\\t\\t\\t,\"mainTrarNm\" : \"동대문시장\"\\n\\t\\t\\t\\t,\"ctprvnCd\" : \"11\"\\n\\t\\t\\t\\t,\"ctprvnNm\" : \"서울특별시\"\\n\\t\\t\\t\\t,\"signguCd\" : \"11110\"\\n\\t\\t\\t\\t,\"signguNm\" : \"종로구\"\\n\\t\\t\\t\\t,\"trarArea\" : 82364.6\\n\\t\\t\\t\\t,\"coordNum\" : 28\\n\\t\\t\\t\\t,\"coords\" : \"POLYGON ((127.009388 37.570565, 127.008984 37.571182, 127.008537 37.57103, 127.006426 37.570998, 127.00658 37.570351, 127.006482 37.570257, 127.006356 37.570327, 127.006198 37.57099, 127.005964 37.570986, 127.005915 37.570267, 127.005804 37.570193, 127.005691 37.570283, 127.005737 37.570983, 127.005376 37.570977, 127.005356 37.570376, 127.005244 37.570291, 127.00513 37.570373, 127.005149 37.570973, 127.003561 37.570947, 127.003571 37.570412, 127.003461 37.570336, 127.003348 37.570409, 127.003335 37.570944, 127.002014 37.570911, 127.002118 37.569718, 127.006712 37.569739, 127.009542 37.569875, 127.009388 37.570565))\"\\n\\t\\t\\t\\t,\"stdrDt\" : \"2015-12-17\"\\n\\t\\t\\t\\t}\\n\\t\\t\\t\\t,{\\n\\t\\t\\t\\t\"trarNo\" : 2225\\n\\t\\t\\t\\t,\"mainTrarNm\" : \"서울 종로구 종로5가역_1\"\\n\\t\\t\\t\\t,\"ctprvnCd\" : \"11\"\\n\\t\\t\\t\\t,\"ctprvnNm\" : \"서울특별시\"\\n\\t\\t\\t\\t,\"signguCd\" : \"11110\"\\n\\t\\t\\t\\t,\"signguNm\" : \"종로구\"\\n\\t\\t\\t\\t,\"trarArea\" : 50246.7\\n\\t\\t\\t\\t,\"coordNum\" : 20\\n\\t\\t\\t\\t,\"coords\" : \"POLYGON ((127.001795 37.57082, 127.000088 37.570774, 127.000052 37.570281, 126.999763 37.57022, 126.99964 37.570323, 126.999836 37.570406, 126.999859 37.570757, 126.999321 37.570717, 126.999367 37.570303, 126.999265 37.570221, 126.999145 37.570287, 126.999096 37.5707, 126.999078 37.570524, 126.99887 37.570325, 126.998761 37.570381, 126.998725 37.570672, 126.997866 37.570624, 126.998052 37.568996, 127.001892 37.569705, 127.001795 37.57082))\"\\n\\t\\t\\t\\t,\"stdrDt\" : \"2015-12-17\"\\n\\t\\t\\t\\t}\\n\\t\\t\\t]\\n\\t}\\n}\\n'"
      ]
     },
     "execution_count": 10,
     "metadata": {},
     "output_type": "execute_result"
    }
   ],
   "source": [
    "json_str"
   ]
  },
  {
   "cell_type": "code",
   "execution_count": 11,
   "metadata": {},
   "outputs": [
    {
     "data": {
      "text/plain": [
       "{'header': {'description': '소상공인시장진흥공단 주요상권',\n",
       "  'resultCode': '00',\n",
       "  'resultMsg': 'NORMAL SERVICE'},\n",
       " 'body': {'items': [{'trarNo': 2214,\n",
       "    'mainTrarNm': '을지로4가역',\n",
       "    'ctprvnCd': '11',\n",
       "    'ctprvnNm': '서울특별시',\n",
       "    'signguCd': '11140',\n",
       "    'signguNm': '중구',\n",
       "    'trarArea': 88434.9,\n",
       "    'coordNum': 8,\n",
       "    'coords': 'POLYGON ((126.999081 37.566789, 127.002102 37.566937, 127.001981 37.568644, 127.001871 37.568655, 127.001873 37.569521, 126.998065 37.568812, 126.998213 37.566753, 126.999081 37.566789))',\n",
       "    'stdrDt': '2015-12-17'},\n",
       "   {'trarNo': 2216,\n",
       "    'mainTrarNm': '동대문시장',\n",
       "    'ctprvnCd': '11',\n",
       "    'ctprvnNm': '서울특별시',\n",
       "    'signguCd': '11140',\n",
       "    'signguNm': '중구',\n",
       "    'trarArea': 68658,\n",
       "    'coordNum': 15,\n",
       "    'coords': 'POLYGON ((127.009453 37.568775, 127.009445 37.569396, 127.009558 37.569397, 127.009543 37.569686, 127.00659 37.569553, 127.006688 37.568112, 127.007709 37.567931, 127.007098 37.567124, 127.006951 37.56706, 127.006146 37.56717, 127.005929 37.566438, 127.007632 37.56611, 127.008198 37.566935, 127.008107 37.566979, 127.009453 37.568775))',\n",
       "    'stdrDt': '2015-12-17'},\n",
       "   {'trarNo': 2207,\n",
       "    'mainTrarNm': '동대문역사문화공원역',\n",
       "    'ctprvnCd': '11',\n",
       "    'ctprvnNm': '서울특별시',\n",
       "    'signguCd': '11140',\n",
       "    'signguNm': '중구',\n",
       "    'trarArea': 81499.1,\n",
       "    'coordNum': 8,\n",
       "    'coords': 'POLYGON ((127.007565 37.565945, 127.004846 37.566394, 127.002877 37.566759, 127.002341 37.566737, 127.00252 37.5647, 127.004682 37.564852, 127.007062 37.564448, 127.007565 37.565945))',\n",
       "    'stdrDt': '2015-12-17'},\n",
       "   {'trarNo': 2226,\n",
       "    'mainTrarNm': '동대문시장',\n",
       "    'ctprvnCd': '11',\n",
       "    'ctprvnNm': '서울특별시',\n",
       "    'signguCd': '11110',\n",
       "    'signguNm': '종로구',\n",
       "    'trarArea': 82364.6,\n",
       "    'coordNum': 28,\n",
       "    'coords': 'POLYGON ((127.009388 37.570565, 127.008984 37.571182, 127.008537 37.57103, 127.006426 37.570998, 127.00658 37.570351, 127.006482 37.570257, 127.006356 37.570327, 127.006198 37.57099, 127.005964 37.570986, 127.005915 37.570267, 127.005804 37.570193, 127.005691 37.570283, 127.005737 37.570983, 127.005376 37.570977, 127.005356 37.570376, 127.005244 37.570291, 127.00513 37.570373, 127.005149 37.570973, 127.003561 37.570947, 127.003571 37.570412, 127.003461 37.570336, 127.003348 37.570409, 127.003335 37.570944, 127.002014 37.570911, 127.002118 37.569718, 127.006712 37.569739, 127.009542 37.569875, 127.009388 37.570565))',\n",
       "    'stdrDt': '2015-12-17'},\n",
       "   {'trarNo': 2225,\n",
       "    'mainTrarNm': '서울 종로구 종로5가역_1',\n",
       "    'ctprvnCd': '11',\n",
       "    'ctprvnNm': '서울특별시',\n",
       "    'signguCd': '11110',\n",
       "    'signguNm': '종로구',\n",
       "    'trarArea': 50246.7,\n",
       "    'coordNum': 20,\n",
       "    'coords': 'POLYGON ((127.001795 37.57082, 127.000088 37.570774, 127.000052 37.570281, 126.999763 37.57022, 126.99964 37.570323, 126.999836 37.570406, 126.999859 37.570757, 126.999321 37.570717, 126.999367 37.570303, 126.999265 37.570221, 126.999145 37.570287, 126.999096 37.5707, 126.999078 37.570524, 126.99887 37.570325, 126.998761 37.570381, 126.998725 37.570672, 126.997866 37.570624, 126.998052 37.568996, 127.001892 37.569705, 127.001795 37.57082))',\n",
       "    'stdrDt': '2015-12-17'}]}}"
      ]
     },
     "execution_count": 11,
     "metadata": {},
     "output_type": "execute_result"
    }
   ],
   "source": [
    "import json\n",
    "json_object = json.loads(json_str)   #이건 문자열을 제이슨 형태로 변환 하는 거다 ! 나중에 딕셔너리 형태로 쓸려고 그런것임.\n",
    "json_object"
   ]
  },
  {
   "cell_type": "code",
   "execution_count": 12,
   "metadata": {},
   "outputs": [
    {
     "name": "stderr",
     "output_type": "stream",
     "text": [
      "<ipython-input-12-d4cbba58a48c>:5: FutureWarning: pandas.io.json.json_normalize is deprecated, use pandas.json_normalize instead\n",
      "  a = json_normalize(json_object['body']['items'])    #컬럼과 값이 뭔지 잘 알자! 빨간색 저거는 그냥 패키지 바뀌었다는 내용임  #판다스만 임포트해서 pd.뭐시기로 써라라는.\n"
     ]
    },
    {
     "data": {
      "text/html": [
       "<div>\n",
       "<style scoped>\n",
       "    .dataframe tbody tr th:only-of-type {\n",
       "        vertical-align: middle;\n",
       "    }\n",
       "\n",
       "    .dataframe tbody tr th {\n",
       "        vertical-align: top;\n",
       "    }\n",
       "\n",
       "    .dataframe thead th {\n",
       "        text-align: right;\n",
       "    }\n",
       "</style>\n",
       "<table border=\"1\" class=\"dataframe\">\n",
       "  <thead>\n",
       "    <tr style=\"text-align: right;\">\n",
       "      <th></th>\n",
       "      <th>trarNo</th>\n",
       "      <th>mainTrarNm</th>\n",
       "      <th>ctprvnCd</th>\n",
       "      <th>ctprvnNm</th>\n",
       "      <th>signguCd</th>\n",
       "      <th>signguNm</th>\n",
       "      <th>trarArea</th>\n",
       "      <th>coordNum</th>\n",
       "      <th>coords</th>\n",
       "      <th>stdrDt</th>\n",
       "    </tr>\n",
       "  </thead>\n",
       "  <tbody>\n",
       "    <tr>\n",
       "      <th>0</th>\n",
       "      <td>2214</td>\n",
       "      <td>을지로4가역</td>\n",
       "      <td>11</td>\n",
       "      <td>서울특별시</td>\n",
       "      <td>11140</td>\n",
       "      <td>중구</td>\n",
       "      <td>88434.9</td>\n",
       "      <td>8</td>\n",
       "      <td>POLYGON ((126.999081 37.566789, 127.002102 37....</td>\n",
       "      <td>2015-12-17</td>\n",
       "    </tr>\n",
       "    <tr>\n",
       "      <th>1</th>\n",
       "      <td>2216</td>\n",
       "      <td>동대문시장</td>\n",
       "      <td>11</td>\n",
       "      <td>서울특별시</td>\n",
       "      <td>11140</td>\n",
       "      <td>중구</td>\n",
       "      <td>68658.0</td>\n",
       "      <td>15</td>\n",
       "      <td>POLYGON ((127.009453 37.568775, 127.009445 37....</td>\n",
       "      <td>2015-12-17</td>\n",
       "    </tr>\n",
       "    <tr>\n",
       "      <th>2</th>\n",
       "      <td>2207</td>\n",
       "      <td>동대문역사문화공원역</td>\n",
       "      <td>11</td>\n",
       "      <td>서울특별시</td>\n",
       "      <td>11140</td>\n",
       "      <td>중구</td>\n",
       "      <td>81499.1</td>\n",
       "      <td>8</td>\n",
       "      <td>POLYGON ((127.007565 37.565945, 127.004846 37....</td>\n",
       "      <td>2015-12-17</td>\n",
       "    </tr>\n",
       "    <tr>\n",
       "      <th>3</th>\n",
       "      <td>2226</td>\n",
       "      <td>동대문시장</td>\n",
       "      <td>11</td>\n",
       "      <td>서울특별시</td>\n",
       "      <td>11110</td>\n",
       "      <td>종로구</td>\n",
       "      <td>82364.6</td>\n",
       "      <td>28</td>\n",
       "      <td>POLYGON ((127.009388 37.570565, 127.008984 37....</td>\n",
       "      <td>2015-12-17</td>\n",
       "    </tr>\n",
       "    <tr>\n",
       "      <th>4</th>\n",
       "      <td>2225</td>\n",
       "      <td>서울 종로구 종로5가역_1</td>\n",
       "      <td>11</td>\n",
       "      <td>서울특별시</td>\n",
       "      <td>11110</td>\n",
       "      <td>종로구</td>\n",
       "      <td>50246.7</td>\n",
       "      <td>20</td>\n",
       "      <td>POLYGON ((127.001795 37.57082, 127.000088 37.5...</td>\n",
       "      <td>2015-12-17</td>\n",
       "    </tr>\n",
       "  </tbody>\n",
       "</table>\n",
       "</div>"
      ],
      "text/plain": [
       "   trarNo      mainTrarNm ctprvnCd ctprvnNm signguCd signguNm  trarArea  \\\n",
       "0    2214          을지로4가역       11    서울특별시    11140       중구   88434.9   \n",
       "1    2216           동대문시장       11    서울특별시    11140       중구   68658.0   \n",
       "2    2207      동대문역사문화공원역       11    서울특별시    11140       중구   81499.1   \n",
       "3    2226           동대문시장       11    서울특별시    11110      종로구   82364.6   \n",
       "4    2225  서울 종로구 종로5가역_1       11    서울특별시    11110      종로구   50246.7   \n",
       "\n",
       "   coordNum                                             coords      stdrDt  \n",
       "0         8  POLYGON ((126.999081 37.566789, 127.002102 37....  2015-12-17  \n",
       "1        15  POLYGON ((127.009453 37.568775, 127.009445 37....  2015-12-17  \n",
       "2         8  POLYGON ((127.007565 37.565945, 127.004846 37....  2015-12-17  \n",
       "3        28  POLYGON ((127.009388 37.570565, 127.008984 37....  2015-12-17  \n",
       "4        20  POLYGON ((127.001795 37.57082, 127.000088 37.5...  2015-12-17  "
      ]
     },
     "execution_count": 12,
     "metadata": {},
     "output_type": "execute_result"
    }
   ],
   "source": [
    "import pandas as pd\n",
    "from pandas.io.json import json_normalize      #json 읽는 클래스, from 판다스!!!\n",
    "\n",
    "json_object['body']['items']  # 바디에서 아이템 가져온것!!! json object 그 거 보면 body전부가져오고 거기서 ittem 가져온것 확인가능!\n",
    "a = json_normalize(json_object['body']['items'])    #컬럼과 값이 뭔지 잘 알자! 빨간색 저거는 그냥 패키지 바뀌었다는 내용임  #판다스만 임포트해서 pd.뭐시기로 써라라는.\n",
    "a                                               #pd.json_normalize 일케   #노말라이즈는 판다스 함수임 제이슨 형태를 데이터프레임형태로 변환하라 라는 기능임!\n",
    "a                                           "
   ]
  },
  {
   "cell_type": "markdown",
   "metadata": {},
   "source": [
    "# 긍게\n",
    "이제 이걸 dataframe이니까 작업시작하면됨!"
   ]
  },
  {
   "cell_type": "markdown",
   "metadata": {},
   "source": [
    "상권번호 상권명 시도코드 시도명 \n",
    "시군구코드 시군구명 면적 좌표개수 \n",
    "데이터기준일자 행정동코드"
   ]
  },
  {
   "cell_type": "code",
   "execution_count": 13,
   "metadata": {
    "scrolled": true
   },
   "outputs": [
    {
     "data": {
      "text/html": [
       "<div>\n",
       "<style scoped>\n",
       "    .dataframe tbody tr th:only-of-type {\n",
       "        vertical-align: middle;\n",
       "    }\n",
       "\n",
       "    .dataframe tbody tr th {\n",
       "        vertical-align: top;\n",
       "    }\n",
       "\n",
       "    .dataframe thead th {\n",
       "        text-align: right;\n",
       "    }\n",
       "</style>\n",
       "<table border=\"1\" class=\"dataframe\">\n",
       "  <thead>\n",
       "    <tr style=\"text-align: right;\">\n",
       "      <th></th>\n",
       "      <th>trarNo</th>\n",
       "      <th>mainTrarNm</th>\n",
       "      <th>ctprvnCd</th>\n",
       "      <th>ctprvnNm</th>\n",
       "      <th>signguCd</th>\n",
       "      <th>signguNm</th>\n",
       "      <th>trarArea</th>\n",
       "      <th>coordNum</th>\n",
       "      <th>coords</th>\n",
       "      <th>stdrDt</th>\n",
       "    </tr>\n",
       "  </thead>\n",
       "  <tbody>\n",
       "    <tr>\n",
       "      <th>0</th>\n",
       "      <td>2214</td>\n",
       "      <td>을지로4가역</td>\n",
       "      <td>11</td>\n",
       "      <td>서울특별시</td>\n",
       "      <td>11140</td>\n",
       "      <td>중구</td>\n",
       "      <td>88434.9</td>\n",
       "      <td>8</td>\n",
       "      <td>POLYGON ((126.999081 37.566789, 127.002102 37....</td>\n",
       "      <td>2015-12-17</td>\n",
       "    </tr>\n",
       "    <tr>\n",
       "      <th>1</th>\n",
       "      <td>2216</td>\n",
       "      <td>동대문시장</td>\n",
       "      <td>11</td>\n",
       "      <td>서울특별시</td>\n",
       "      <td>11140</td>\n",
       "      <td>중구</td>\n",
       "      <td>68658.0</td>\n",
       "      <td>15</td>\n",
       "      <td>POLYGON ((127.009453 37.568775, 127.009445 37....</td>\n",
       "      <td>2015-12-17</td>\n",
       "    </tr>\n",
       "    <tr>\n",
       "      <th>2</th>\n",
       "      <td>2207</td>\n",
       "      <td>동대문역사문화공원역</td>\n",
       "      <td>11</td>\n",
       "      <td>서울특별시</td>\n",
       "      <td>11140</td>\n",
       "      <td>중구</td>\n",
       "      <td>81499.1</td>\n",
       "      <td>8</td>\n",
       "      <td>POLYGON ((127.007565 37.565945, 127.004846 37....</td>\n",
       "      <td>2015-12-17</td>\n",
       "    </tr>\n",
       "    <tr>\n",
       "      <th>3</th>\n",
       "      <td>2226</td>\n",
       "      <td>동대문시장</td>\n",
       "      <td>11</td>\n",
       "      <td>서울특별시</td>\n",
       "      <td>11110</td>\n",
       "      <td>종로구</td>\n",
       "      <td>82364.6</td>\n",
       "      <td>28</td>\n",
       "      <td>POLYGON ((127.009388 37.570565, 127.008984 37....</td>\n",
       "      <td>2015-12-17</td>\n",
       "    </tr>\n",
       "    <tr>\n",
       "      <th>4</th>\n",
       "      <td>2225</td>\n",
       "      <td>서울 종로구 종로5가역_1</td>\n",
       "      <td>11</td>\n",
       "      <td>서울특별시</td>\n",
       "      <td>11110</td>\n",
       "      <td>종로구</td>\n",
       "      <td>50246.7</td>\n",
       "      <td>20</td>\n",
       "      <td>POLYGON ((127.001795 37.57082, 127.000088 37.5...</td>\n",
       "      <td>2015-12-17</td>\n",
       "    </tr>\n",
       "  </tbody>\n",
       "</table>\n",
       "</div>"
      ],
      "text/plain": [
       "   trarNo      mainTrarNm ctprvnCd ctprvnNm signguCd signguNm  trarArea  \\\n",
       "0    2214          을지로4가역       11    서울특별시    11140       중구   88434.9   \n",
       "1    2216           동대문시장       11    서울특별시    11140       중구   68658.0   \n",
       "2    2207      동대문역사문화공원역       11    서울특별시    11140       중구   81499.1   \n",
       "3    2226           동대문시장       11    서울특별시    11110      종로구   82364.6   \n",
       "4    2225  서울 종로구 종로5가역_1       11    서울특별시    11110      종로구   50246.7   \n",
       "\n",
       "   coordNum                                             coords      stdrDt  \n",
       "0         8  POLYGON ((126.999081 37.566789, 127.002102 37....  2015-12-17  \n",
       "1        15  POLYGON ((127.009453 37.568775, 127.009445 37....  2015-12-17  \n",
       "2         8  POLYGON ((127.007565 37.565945, 127.004846 37....  2015-12-17  \n",
       "3        28  POLYGON ((127.009388 37.570565, 127.008984 37....  2015-12-17  \n",
       "4        20  POLYGON ((127.001795 37.57082, 127.000088 37.5...  2015-12-17  "
      ]
     },
     "execution_count": 13,
     "metadata": {},
     "output_type": "execute_result"
    }
   ],
   "source": [
    "a"
   ]
  },
  {
   "cell_type": "code",
   "execution_count": 14,
   "metadata": {},
   "outputs": [
    {
     "data": {
      "text/plain": [
       "(5, 10)"
      ]
     },
     "execution_count": 14,
     "metadata": {},
     "output_type": "execute_result"
    }
   ],
   "source": [
    "a.shape"
   ]
  },
  {
   "cell_type": "code",
   "execution_count": 51,
   "metadata": {},
   "outputs": [],
   "source": []
  },
  {
   "cell_type": "code",
   "execution_count": 62,
   "metadata": {},
   "outputs": [],
   "source": [
    "a.columns = ['상권번호','상권명','시도코드','시도명','시군구코드','시군구명','면적','좌표개수','좌표값','데이터기준일자']\n",
    "\n",
    "#컬럼명 변경 ~\n",
    "\n"
   ]
  },
  {
   "cell_type": "code",
   "execution_count": 61,
   "metadata": {},
   "outputs": [
    {
     "data": {
      "text/html": [
       "<div>\n",
       "<style scoped>\n",
       "    .dataframe tbody tr th:only-of-type {\n",
       "        vertical-align: middle;\n",
       "    }\n",
       "\n",
       "    .dataframe tbody tr th {\n",
       "        vertical-align: top;\n",
       "    }\n",
       "\n",
       "    .dataframe thead th {\n",
       "        text-align: right;\n",
       "    }\n",
       "</style>\n",
       "<table border=\"1\" class=\"dataframe\">\n",
       "  <thead>\n",
       "    <tr style=\"text-align: right;\">\n",
       "      <th></th>\n",
       "      <th>상권번호</th>\n",
       "      <th>상권명</th>\n",
       "      <th>시도코드</th>\n",
       "      <th>시도명</th>\n",
       "      <th>시군구코드</th>\n",
       "      <th>시군구명</th>\n",
       "      <th>면적</th>\n",
       "      <th>좌표개수</th>\n",
       "      <th>좌표값</th>\n",
       "      <th>데이터기준일자</th>\n",
       "    </tr>\n",
       "  </thead>\n",
       "  <tbody>\n",
       "    <tr>\n",
       "      <th>0</th>\n",
       "      <td>2214</td>\n",
       "      <td>을지로4가역</td>\n",
       "      <td>11</td>\n",
       "      <td>서울특별시</td>\n",
       "      <td>11140</td>\n",
       "      <td>중구</td>\n",
       "      <td>88434.9</td>\n",
       "      <td>8</td>\n",
       "      <td>POLYGON ((126.999081 37.566789, 127.002102 37....</td>\n",
       "      <td>2015-12-17</td>\n",
       "    </tr>\n",
       "    <tr>\n",
       "      <th>1</th>\n",
       "      <td>2216</td>\n",
       "      <td>동대문시장</td>\n",
       "      <td>11</td>\n",
       "      <td>서울특별시</td>\n",
       "      <td>11140</td>\n",
       "      <td>중구</td>\n",
       "      <td>68658.0</td>\n",
       "      <td>15</td>\n",
       "      <td>POLYGON ((127.009453 37.568775, 127.009445 37....</td>\n",
       "      <td>2015-12-17</td>\n",
       "    </tr>\n",
       "    <tr>\n",
       "      <th>2</th>\n",
       "      <td>2207</td>\n",
       "      <td>동대문역사문화공원역</td>\n",
       "      <td>11</td>\n",
       "      <td>서울특별시</td>\n",
       "      <td>11140</td>\n",
       "      <td>중구</td>\n",
       "      <td>81499.1</td>\n",
       "      <td>8</td>\n",
       "      <td>POLYGON ((127.007565 37.565945, 127.004846 37....</td>\n",
       "      <td>2015-12-17</td>\n",
       "    </tr>\n",
       "    <tr>\n",
       "      <th>3</th>\n",
       "      <td>2226</td>\n",
       "      <td>동대문시장</td>\n",
       "      <td>11</td>\n",
       "      <td>서울특별시</td>\n",
       "      <td>11110</td>\n",
       "      <td>종로구</td>\n",
       "      <td>82364.6</td>\n",
       "      <td>28</td>\n",
       "      <td>POLYGON ((127.009388 37.570565, 127.008984 37....</td>\n",
       "      <td>2015-12-17</td>\n",
       "    </tr>\n",
       "    <tr>\n",
       "      <th>4</th>\n",
       "      <td>2225</td>\n",
       "      <td>서울 종로구 종로5가역_1</td>\n",
       "      <td>11</td>\n",
       "      <td>서울특별시</td>\n",
       "      <td>11110</td>\n",
       "      <td>종로구</td>\n",
       "      <td>50246.7</td>\n",
       "      <td>20</td>\n",
       "      <td>POLYGON ((127.001795 37.57082, 127.000088 37.5...</td>\n",
       "      <td>2015-12-17</td>\n",
       "    </tr>\n",
       "  </tbody>\n",
       "</table>\n",
       "</div>"
      ],
      "text/plain": [
       "   상권번호             상권명 시도코드    시도명  시군구코드 시군구명       면적  좌표개수  \\\n",
       "0  2214          을지로4가역   11  서울특별시  11140   중구  88434.9     8   \n",
       "1  2216           동대문시장   11  서울특별시  11140   중구  68658.0    15   \n",
       "2  2207      동대문역사문화공원역   11  서울특별시  11140   중구  81499.1     8   \n",
       "3  2226           동대문시장   11  서울특별시  11110  종로구  82364.6    28   \n",
       "4  2225  서울 종로구 종로5가역_1   11  서울특별시  11110  종로구  50246.7    20   \n",
       "\n",
       "                                                 좌표값     데이터기준일자  \n",
       "0  POLYGON ((126.999081 37.566789, 127.002102 37....  2015-12-17  \n",
       "1  POLYGON ((127.009453 37.568775, 127.009445 37....  2015-12-17  \n",
       "2  POLYGON ((127.007565 37.565945, 127.004846 37....  2015-12-17  \n",
       "3  POLYGON ((127.009388 37.570565, 127.008984 37....  2015-12-17  \n",
       "4  POLYGON ((127.001795 37.57082, 127.000088 37.5...  2015-12-17  "
      ]
     },
     "execution_count": 61,
     "metadata": {},
     "output_type": "execute_result"
    }
   ],
   "source": [
    "a"
   ]
  },
  {
   "cell_type": "code",
   "execution_count": null,
   "metadata": {},
   "outputs": [],
   "source": []
  },
  {
   "cell_type": "markdown",
   "metadata": {},
   "source": [
    "\n",
    "\n",
    "# 내꺼 해보자 \n",
    " - 지하철 자료 !!!\n",
    "\n",
    "\n",
    "\n",
    "\n",
    "\n",
    "\n",
    "\n"
   ]
  },
  {
   "cell_type": "code",
   "execution_count": 92,
   "metadata": {},
   "outputs": [],
   "source": [
    "url1= \"http://openapi.tago.go.kr/openapi/service/ MetroRtInfoService?_wadl&_type=xml/\"\n",
    "url2=\"getMetroLineInfoList\"\n"
   ]
  },
  {
   "cell_type": "code",
   "execution_count": 126,
   "metadata": {},
   "outputs": [],
   "source": [
    "#url = url1+url2 +my_key + '&type=json'\n",
    "url = \"http://openapi.tago.go.kr/openapi/service/MetroRtInfoService/getMetroLineInfoList?ServiceKey=tB083Du1af8KVsh3YoWrtQBLVPMrN%2BCHPMqgpCK1yCG3ppe1ScXruS9Qajq%2FRxQk4RVdlNwShSnS1j6jp0NQxQ%3D%3D&cityCd=BS&lineNo=4&type=json\""
   ]
  },
  {
   "cell_type": "code",
   "execution_count": 127,
   "metadata": {},
   "outputs": [
    {
     "data": {
      "text/plain": [
       "<http.client.HTTPResponse at 0x1ffe37e12e0>"
      ]
     },
     "execution_count": 127,
     "metadata": {},
     "output_type": "execute_result"
    }
   ],
   "source": [
    "import urllib.request\n",
    "res = urllib.request.urlopen(url);res"
   ]
  },
  {
   "cell_type": "code",
   "execution_count": 123,
   "metadata": {},
   "outputs": [
    {
     "name": "stdout",
     "output_type": "stream",
     "text": [
      "http://openapi.tago.go.kr/openapi/service/MetroRtInfoService/getMetroLineInfoList?ServiceKey=tB083Du1af8KVsh3YoWrtQBLVPMrN%2BCHPMqgpCK1yCG3ppe1ScXruS9Qajq%2FRxQk4RVdlNwShSnS1j6jp0NQxQ%3D%3D&cityCd=BS&lineNo=4\n"
     ]
    }
   ],
   "source": [
    "print(url)"
   ]
  },
  {
   "cell_type": "code",
   "execution_count": 128,
   "metadata": {},
   "outputs": [
    {
     "data": {
      "text/plain": [
       "b'<?xml version=\"1.0\" encoding=\"UTF-8\" standalone=\"yes\"?><response><header><resultCode>99</resultCode><resultMsg>SERVICE KEY IS NOT REGISTERED ERROR.</resultMsg></header></response>'"
      ]
     },
     "execution_count": 128,
     "metadata": {},
     "output_type": "execute_result"
    }
   ],
   "source": [
    "json_str = res.read(); json_str"
   ]
  },
  {
   "cell_type": "code",
   "execution_count": 129,
   "metadata": {},
   "outputs": [],
   "source": [
    "res = urllib.request.urlopen(url);res\n",
    "json_str = res.read().decode(\"UTF-8\")  "
   ]
  },
  {
   "cell_type": "code",
   "execution_count": 131,
   "metadata": {},
   "outputs": [
    {
     "ename": "JSONDecodeError",
     "evalue": "Expecting value: line 1 column 1 (char 0)",
     "output_type": "error",
     "traceback": [
      "\u001b[1;31m---------------------------------------------------------------------------\u001b[0m",
      "\u001b[1;31mJSONDecodeError\u001b[0m                           Traceback (most recent call last)",
      "\u001b[1;32m<ipython-input-131-a4b7b2379cd2>\u001b[0m in \u001b[0;36m<module>\u001b[1;34m\u001b[0m\n\u001b[0;32m      2\u001b[0m \u001b[0mjson_str\u001b[0m \u001b[1;33m=\u001b[0m \u001b[0mres\u001b[0m\u001b[1;33m.\u001b[0m\u001b[0mread\u001b[0m\u001b[1;33m(\u001b[0m\u001b[1;33m)\u001b[0m\u001b[1;33m.\u001b[0m\u001b[0mdecode\u001b[0m\u001b[1;33m(\u001b[0m\u001b[1;34m\"UTF-8\"\u001b[0m\u001b[1;33m)\u001b[0m\u001b[1;33m\u001b[0m\u001b[1;33m\u001b[0m\u001b[0m\n\u001b[0;32m      3\u001b[0m \u001b[1;32mimport\u001b[0m \u001b[0mjson\u001b[0m\u001b[1;33m\u001b[0m\u001b[1;33m\u001b[0m\u001b[0m\n\u001b[1;32m----> 4\u001b[1;33m \u001b[0mjson_object\u001b[0m \u001b[1;33m=\u001b[0m \u001b[0mjson\u001b[0m\u001b[1;33m.\u001b[0m\u001b[0mloads\u001b[0m\u001b[1;33m(\u001b[0m\u001b[0mjson_str\u001b[0m\u001b[1;33m)\u001b[0m\u001b[1;33m\u001b[0m\u001b[1;33m\u001b[0m\u001b[0m\n\u001b[0m\u001b[0;32m      5\u001b[0m \u001b[1;33m\u001b[0m\u001b[0m\n\u001b[0;32m      6\u001b[0m \u001b[1;33m\u001b[0m\u001b[0m\n",
      "\u001b[1;32mC:\\anaconda3\\lib\\json\\__init__.py\u001b[0m in \u001b[0;36mloads\u001b[1;34m(s, cls, object_hook, parse_float, parse_int, parse_constant, object_pairs_hook, **kw)\u001b[0m\n\u001b[0;32m    355\u001b[0m             \u001b[0mparse_int\u001b[0m \u001b[1;32mis\u001b[0m \u001b[1;32mNone\u001b[0m \u001b[1;32mand\u001b[0m \u001b[0mparse_float\u001b[0m \u001b[1;32mis\u001b[0m \u001b[1;32mNone\u001b[0m \u001b[1;32mand\u001b[0m\u001b[1;33m\u001b[0m\u001b[1;33m\u001b[0m\u001b[0m\n\u001b[0;32m    356\u001b[0m             parse_constant is None and object_pairs_hook is None and not kw):\n\u001b[1;32m--> 357\u001b[1;33m         \u001b[1;32mreturn\u001b[0m \u001b[0m_default_decoder\u001b[0m\u001b[1;33m.\u001b[0m\u001b[0mdecode\u001b[0m\u001b[1;33m(\u001b[0m\u001b[0ms\u001b[0m\u001b[1;33m)\u001b[0m\u001b[1;33m\u001b[0m\u001b[1;33m\u001b[0m\u001b[0m\n\u001b[0m\u001b[0;32m    358\u001b[0m     \u001b[1;32mif\u001b[0m \u001b[0mcls\u001b[0m \u001b[1;32mis\u001b[0m \u001b[1;32mNone\u001b[0m\u001b[1;33m:\u001b[0m\u001b[1;33m\u001b[0m\u001b[1;33m\u001b[0m\u001b[0m\n\u001b[0;32m    359\u001b[0m         \u001b[0mcls\u001b[0m \u001b[1;33m=\u001b[0m \u001b[0mJSONDecoder\u001b[0m\u001b[1;33m\u001b[0m\u001b[1;33m\u001b[0m\u001b[0m\n",
      "\u001b[1;32mC:\\anaconda3\\lib\\json\\decoder.py\u001b[0m in \u001b[0;36mdecode\u001b[1;34m(self, s, _w)\u001b[0m\n\u001b[0;32m    335\u001b[0m \u001b[1;33m\u001b[0m\u001b[0m\n\u001b[0;32m    336\u001b[0m         \"\"\"\n\u001b[1;32m--> 337\u001b[1;33m         \u001b[0mobj\u001b[0m\u001b[1;33m,\u001b[0m \u001b[0mend\u001b[0m \u001b[1;33m=\u001b[0m \u001b[0mself\u001b[0m\u001b[1;33m.\u001b[0m\u001b[0mraw_decode\u001b[0m\u001b[1;33m(\u001b[0m\u001b[0ms\u001b[0m\u001b[1;33m,\u001b[0m \u001b[0midx\u001b[0m\u001b[1;33m=\u001b[0m\u001b[0m_w\u001b[0m\u001b[1;33m(\u001b[0m\u001b[0ms\u001b[0m\u001b[1;33m,\u001b[0m \u001b[1;36m0\u001b[0m\u001b[1;33m)\u001b[0m\u001b[1;33m.\u001b[0m\u001b[0mend\u001b[0m\u001b[1;33m(\u001b[0m\u001b[1;33m)\u001b[0m\u001b[1;33m)\u001b[0m\u001b[1;33m\u001b[0m\u001b[1;33m\u001b[0m\u001b[0m\n\u001b[0m\u001b[0;32m    338\u001b[0m         \u001b[0mend\u001b[0m \u001b[1;33m=\u001b[0m \u001b[0m_w\u001b[0m\u001b[1;33m(\u001b[0m\u001b[0ms\u001b[0m\u001b[1;33m,\u001b[0m \u001b[0mend\u001b[0m\u001b[1;33m)\u001b[0m\u001b[1;33m.\u001b[0m\u001b[0mend\u001b[0m\u001b[1;33m(\u001b[0m\u001b[1;33m)\u001b[0m\u001b[1;33m\u001b[0m\u001b[1;33m\u001b[0m\u001b[0m\n\u001b[0;32m    339\u001b[0m         \u001b[1;32mif\u001b[0m \u001b[0mend\u001b[0m \u001b[1;33m!=\u001b[0m \u001b[0mlen\u001b[0m\u001b[1;33m(\u001b[0m\u001b[0ms\u001b[0m\u001b[1;33m)\u001b[0m\u001b[1;33m:\u001b[0m\u001b[1;33m\u001b[0m\u001b[1;33m\u001b[0m\u001b[0m\n",
      "\u001b[1;32mC:\\anaconda3\\lib\\json\\decoder.py\u001b[0m in \u001b[0;36mraw_decode\u001b[1;34m(self, s, idx)\u001b[0m\n\u001b[0;32m    353\u001b[0m             \u001b[0mobj\u001b[0m\u001b[1;33m,\u001b[0m \u001b[0mend\u001b[0m \u001b[1;33m=\u001b[0m \u001b[0mself\u001b[0m\u001b[1;33m.\u001b[0m\u001b[0mscan_once\u001b[0m\u001b[1;33m(\u001b[0m\u001b[0ms\u001b[0m\u001b[1;33m,\u001b[0m \u001b[0midx\u001b[0m\u001b[1;33m)\u001b[0m\u001b[1;33m\u001b[0m\u001b[1;33m\u001b[0m\u001b[0m\n\u001b[0;32m    354\u001b[0m         \u001b[1;32mexcept\u001b[0m \u001b[0mStopIteration\u001b[0m \u001b[1;32mas\u001b[0m \u001b[0merr\u001b[0m\u001b[1;33m:\u001b[0m\u001b[1;33m\u001b[0m\u001b[1;33m\u001b[0m\u001b[0m\n\u001b[1;32m--> 355\u001b[1;33m             \u001b[1;32mraise\u001b[0m \u001b[0mJSONDecodeError\u001b[0m\u001b[1;33m(\u001b[0m\u001b[1;34m\"Expecting value\"\u001b[0m\u001b[1;33m,\u001b[0m \u001b[0ms\u001b[0m\u001b[1;33m,\u001b[0m \u001b[0merr\u001b[0m\u001b[1;33m.\u001b[0m\u001b[0mvalue\u001b[0m\u001b[1;33m)\u001b[0m \u001b[1;32mfrom\u001b[0m \u001b[1;32mNone\u001b[0m\u001b[1;33m\u001b[0m\u001b[1;33m\u001b[0m\u001b[0m\n\u001b[0m\u001b[0;32m    356\u001b[0m         \u001b[1;32mreturn\u001b[0m \u001b[0mobj\u001b[0m\u001b[1;33m,\u001b[0m \u001b[0mend\u001b[0m\u001b[1;33m\u001b[0m\u001b[1;33m\u001b[0m\u001b[0m\n",
      "\u001b[1;31mJSONDecodeError\u001b[0m: Expecting value: line 1 column 1 (char 0)"
     ]
    }
   ],
   "source": [
    "res = urllib.request.urlopen(url);res\n",
    "json_str = res.read().decode(\"UTF-8\")  \n",
    "import json\n",
    "json_object = json.loads(json_str)  \n",
    "\n"
   ]
  },
  {
   "cell_type": "code",
   "execution_count": 132,
   "metadata": {},
   "outputs": [
    {
     "data": {
      "text/plain": [
       "<http.client.HTTPResponse at 0x1ffe576ffd0>"
      ]
     },
     "execution_count": 132,
     "metadata": {},
     "output_type": "execute_result"
    }
   ],
   "source": [
    "res"
   ]
  },
  {
   "cell_type": "code",
   "execution_count": null,
   "metadata": {},
   "outputs": [],
   "source": []
  },
  {
   "cell_type": "code",
   "execution_count": null,
   "metadata": {},
   "outputs": [],
   "source": []
  }
 ],
 "metadata": {
  "kernelspec": {
   "display_name": "Python 3",
   "language": "python",
   "name": "python3"
  },
  "language_info": {
   "codemirror_mode": {
    "name": "ipython",
    "version": 3
   },
   "file_extension": ".py",
   "mimetype": "text/x-python",
   "name": "python",
   "nbconvert_exporter": "python",
   "pygments_lexer": "ipython3",
   "version": "3.8.3"
  }
 },
 "nbformat": 4,
 "nbformat_minor": 4
}
