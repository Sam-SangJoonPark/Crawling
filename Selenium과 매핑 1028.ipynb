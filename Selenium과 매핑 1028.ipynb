{
 "cells": [
  {
   "cell_type": "markdown",
   "metadata": {},
   "source": [
    "## ChromeDriverManager 사용하기"
   ]
  },
  {
   "cell_type": "code",
   "execution_count": 1,
   "metadata": {},
   "outputs": [],
   "source": [
    "# 이렇게 시작해도 되고\n",
    "from selenium import webdriver\n",
    "import time\n",
    "driver = webdriver.Chrome('chromedriver.exe')\n",
    "driver.get(\"https://google.com\")\n",
    "time.sleep(1)\n",
    "driver.close()"
   ]
  },
  {
   "cell_type": "code",
   "execution_count": 2,
   "metadata": {},
   "outputs": [
    {
     "name": "stderr",
     "output_type": "stream",
     "text": [
      "[WDM] - Current google-chrome version is 86.0.4240\n",
      "[WDM] - Get LATEST driver version for 86.0.4240\n",
      "[WDM] - Driver [C:\\Users\\USER\\.wdm\\drivers\\chromedriver\\win32\\86.0.4240.22\\chromedriver.exe] found in cache\n"
     ]
    },
    {
     "name": "stdout",
     "output_type": "stream",
     "text": [
      " \n"
     ]
    }
   ],
   "source": [
    "# ChromeDriverManager 하면 이렇게 가능! chrome 드라이버 설치 없이도 가능\n",
    "# 다양한 브라우저 드라이버를 자동으로 관리하고 드라이버를 수동으로 관리하는 데 소요되는 모든 시간과 노력을 절약하는 무료 오픈 소스 라이브러리라고 함\n",
    "from selenium import webdriver\n",
    "from webdriver_manager.chrome import ChromeDriverManager\n",
    "import time\n",
    "driver = webdriver.Chrome(ChromeDriverManager().install())\n",
    "\n",
    "driver.get(\"https://google.com\")\n",
    "time.sleep(2)\n",
    "driver.close()"
   ]
  },
  {
   "cell_type": "markdown",
   "metadata": {},
   "source": [
    "## 매핑 현명하게 하기"
   ]
  },
  {
   "cell_type": "markdown",
   "metadata": {},
   "source": [
    "### 드라이버를 두 개 띄워 놓고서 (모니터 필수!) 비교하는 작업 해보자\n"
   ]
  },
  {
   "cell_type": "markdown",
   "metadata": {},
   "source": [
    "#### 네이버와 다음에서 인물검색 동일한 이름으로 비교해보기"
   ]
  },
  {
   "cell_type": "code",
   "execution_count": 3,
   "metadata": {},
   "outputs": [
    {
     "name": "stderr",
     "output_type": "stream",
     "text": [
      "[WDM] - Current google-chrome version is 86.0.4240\n",
      "[WDM] - Get LATEST driver version for 86.0.4240\n",
      "[WDM] - Driver [C:\\Users\\USER\\.wdm\\drivers\\chromedriver\\win32\\86.0.4240.22\\chromedriver.exe] found in cache\n"
     ]
    },
    {
     "name": "stdout",
     "output_type": "stream",
     "text": [
      " \n"
     ]
    },
    {
     "name": "stderr",
     "output_type": "stream",
     "text": [
      "[WDM] - Current google-chrome version is 86.0.4240\n",
      "[WDM] - Get LATEST driver version for 86.0.4240\n",
      "[WDM] - Driver [C:\\Users\\USER\\.wdm\\drivers\\chromedriver\\win32\\86.0.4240.22\\chromedriver.exe] found in cache\n"
     ]
    },
    {
     "name": "stdout",
     "output_type": "stream",
     "text": [
      " \n"
     ]
    }
   ],
   "source": [
    "driver1 = webdriver.Chrome(ChromeDriverManager().install())\n",
    "driver1.set_window_position(0, 0)\n",
    "driver1.set_window_size(700, 600)\n",
    "\n",
    "driver2 = webdriver.Chrome(ChromeDriverManager().install())\n",
    "driver2.set_window_position(800, 0)\n",
    "driver2.set_window_size(700, 600)"
   ]
  },
  {
   "cell_type": "code",
   "execution_count": 4,
   "metadata": {},
   "outputs": [],
   "source": [
    "naver = \"https://www.naver.com/\"\n",
    "daum = \"https://www.daum.net/\"\n",
    "\n",
    "# 이것 중 아무거나 치면 yes 혹은 no\n",
    "yes_list = ['Yes','yes','ok', 'o', 'ㅇㅇ','ㅇ']\n",
    "no_list = ['No','no','x','ㄴㄴ','ㄴ']\n",
    "pass_list = ['보류', 'pass', 'p']"
   ]
  },
  {
   "cell_type": "code",
   "execution_count": 5,
   "metadata": {},
   "outputs": [],
   "source": [
    "# 이름 검색으로 동명이인이 있을 경우 체크해보자\n",
    "# 이 리스트가 길어질수록 유용할듯\n",
    "check_list = ['차두리','박지성','김민재','이지훈','지민','나은','마크','유미','한혜진','김수현','김태우']"
   ]
  },
  {
   "cell_type": "code",
   "execution_count": 6,
   "metadata": {},
   "outputs": [
    {
     "name": "stdout",
     "output_type": "stream",
     "text": [
      "일치 시에는 o, 아닐 시 x를 입력 : ㅇㅇ\n",
      "일치 시에는 o, 아닐 시 x를 입력 : ㅇㅇ\n",
      "일치 시에는 o, 아닐 시 x를 입력 : ㅇ\n",
      "일치 시에는 o, 아닐 시 x를 입력 : ㄴㄴ\n",
      "일치 시에는 o, 아닐 시 x를 입력 : ㄴ\n",
      "일치 시에는 o, 아닐 시 x를 입력 : ㅇㅇ\n",
      "일치 시에는 o, 아닐 시 x를 입력 : pass\n",
      "일치 시에는 o, 아닐 시 x를 입력 : ㅇㅇ\n",
      "일치 시에는 o, 아닐 시 x를 입력 : ㄴ\n",
      "일치 시에는 o, 아닐 시 x를 입력 : ㅇㅇ\n",
      "일치 시에는 o, 아닐 시 x를 입력 : ㄴㄴ\n",
      "일치 시에는 o, 아닐 시 x를 입력 : p\n",
      "same people :  6\n",
      "different people :  4\n"
     ]
    }
   ],
   "source": [
    "same_name = 0\n",
    "diff_name = 0 \n",
    "for name in check_list :\n",
    "    # 메인 검색창에서 이름 주고 엔터누르는거 말고 이렇게 쿼리문으로 직접 들어가보자!\n",
    "    driver1.get(\"https://search.naver.com/search.naver?sm=top_hty&fbm=1&ie=utf8&query={}\".format(name))\n",
    "    driver2.get(\"https://search.daum.net/search?w=tot&DA=YZR&t__nil_searchbox=btn&sug=&sugo=&sq=&o=&q={}\".format(name))\n",
    "    user_input = ''\n",
    "    while user_input not in yes_list + no_list + pass_list:\n",
    "        user_input = input('일치 시에는 o, 아닐 시 x를 입력 : ')\n",
    "        \n",
    "    if user_input in yes_list :\n",
    "        same_name += 1\n",
    "    elif user_input in no_list :\n",
    "        diff_name += 1\n",
    "    else :\n",
    "        pass\n",
    "\n",
    "    \n",
    "print('same people : ' , same_name)\n",
    "print('different people : ', diff_name)"
   ]
  },
  {
   "cell_type": "code",
   "execution_count": null,
   "metadata": {},
   "outputs": [],
   "source": []
  }
 ],
 "metadata": {
  "kernelspec": {
   "display_name": "Python 3",
   "language": "python",
   "name": "python3"
  },
  "language_info": {
   "codemirror_mode": {
    "name": "ipython",
    "version": 3
   },
   "file_extension": ".py",
   "mimetype": "text/x-python",
   "name": "python",
   "nbconvert_exporter": "python",
   "pygments_lexer": "ipython3",
   "version": "3.7.6"
  }
 },
 "nbformat": 4,
 "nbformat_minor": 4
}
