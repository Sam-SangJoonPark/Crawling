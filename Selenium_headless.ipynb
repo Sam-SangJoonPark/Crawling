{
 "cells": [
  {
   "cell_type": "markdown",
   "metadata": {},
   "source": [
    "# 박상준 코드"
   ]
  },
  {
   "cell_type": "markdown",
   "metadata": {},
   "source": [
    "#### 목적 : 각 list의 element기반으로 영화 데이터를 추출하는 코드\n",
    "    - 감독, 제목 & 출시년도 & 장르세트, 평점, 원제(있는것만), 평점(후순위)"
   ]
  },
  {
   "cell_type": "markdown",
   "metadata": {},
   "source": [
    "## Develop Log\n",
    "- Code Created by 박상준\n",
    "- Code Developed by 강태훈"
   ]
  },
  {
   "cell_type": "code",
   "execution_count": 5,
   "metadata": {},
   "outputs": [],
   "source": [
    "import pandas as pd\n",
    "import time\n",
    "from datetime import datetime\n",
    "from selenium import webdriver\n",
    "from webdriver_manager.chrome import ChromeDriverManager # webdriver-manager 패키지 다운로드\n",
    "from selenium.webdriver.common.by import By\n",
    "from selenium.webdriver.support.ui import WebDriverWait\n",
    "from selenium.webdriver.support import expected_conditions as EC\n",
    "from selenium.webdriver.common.keys import Keys\n",
    "from selenium.common.exceptions import TimeoutException\n",
    "from bs4 import BeautifulSoup\n",
    "from tqdm import tqdm"
   ]
  },
  {
   "cell_type": "code",
   "execution_count": 6,
   "metadata": {},
   "outputs": [],
   "source": [
    "def selenium_chrome(url='about:blank', headless_mode=False):\n",
    "    '''\n",
    "    Selenium 시작하는 함수\n",
    "    \n",
    "    :param url: 접속할 링크\n",
    "    :param headless_mode: Headless 실행여부\n",
    "    \n",
    "    :return driver: Selenium Driver Object\n",
    "    '''\n",
    "    \n",
    "    if headless_mode is True:\n",
    "        # 옵션 추가 \n",
    "        options = webdriver.ChromeOptions() \n",
    "        options.add_argument('window-size=1920x1080')\n",
    "        options.add_argument('disable-gpu')\n",
    "        options.add_argument('lang=ko_KR')\n",
    "        options.add_argument('headless')           # 이 부분이 HEADLESS실행하는 옵션!! 나머지는 옵션들\n",
    "        options.add_argument(\"no-sandbox\")\n",
    "        options.add_argument('user-agent=Mozilla/5.0 (Macintosh; Intel Mac OS X 10_15_7) AppleWebKit/537.36 (KHTML, like Gecko) Chrome/86.0.4240.80 Safari/537.36')\n",
    "        options.add_argument('ignore-certificate-errors')\n",
    "        options.add_argument('allow-running-insecure-content')\n",
    "        # 개인 속성창 확인 url : 'https://intoli.com/blog/making-chrome-headless-undetectable/chrome-headless-test.html'\n",
    "\n",
    "        driver = webdriver.Chrome(ChromeDriverManager().install(), options=options)\n",
    "        driver.set_window_size(1920, 1080)\n",
    "        # driver.set_window_position(0, -2000) # 해당 코드 실행 시 selenium브라우저가 좌표값 (x: 0, y:-2000) 위치에 시작\n",
    "        driver.get('about:blank')    # about:blank는 그냥 아무것도 없는 페이지 띄워놓겠다는 것\n",
    "        driver.execute_script(\"Object.defineProperty(navigator, 'plugins', {get: function() {return[1, 2, 3, 4, 5];},});\")\n",
    "        driver.execute_script(\"Object.defineProperty(navigator, 'languages', {get: function() {return ['ko-KR', 'ko', 'en-US', 'en']}})\")\n",
    "        driver.execute_script(\"const getParameter = WebGLRenderingContext.getParameter;WebGLRenderingContext.prototype.getParameter = function(parameter) {if (parameter === 37445) {return 'Intel Open Source Technology Center'} if (parameter === 37446) {return 'Mesa DRI Intel(R) Ivybridge Mobile';}return getParameter(parameter);};\")\n",
    "    \n",
    "    elif headless_mode is False:\n",
    "        driver = webdriver.Chrome(ChromeDriverManager().install())\n",
    "        # driver.set_window_size(1920, 1080)\n",
    "        driver.get('about:blank')\n",
    "        \n",
    "    driver.get(url)\n",
    "    return driver"
   ]
  },
  {
   "cell_type": "code",
   "execution_count": 7,
   "metadata": {},
   "outputs": [],
   "source": [
    "def driver_wait_XPATH(driver, XPATH, url='about:blank', waitingtime=10):\n",
    "    '''\"\n",
    "    목적1) : 지정한 ID element값이 나타날때까지 대기시키는 함수\n",
    "    목적2) : 일정시간을 초과한 경우 selenium을 다시 재실행 시키기 -> 신규 쿠키로 활동시작\n",
    "    \n",
    "    :param driver: selenium Driver\n",
    "    :param XPATH: element의 XPATH값\n",
    "    :param waitingtime: 최대 대기시간\n",
    "    \n",
    "    :return: driver\n",
    "    '''\n",
    "    \n",
    "    try: \n",
    "        element = WebDriverWait(driver, waitingtime).until(\n",
    "            EC.presence_of_element_located((By.XPATH, XPATH))\n",
    "        )                          # BY.XPATH는 타입이 XPATH, 두번째 XPATH는 XPATH 경로를 정의해줄 것임. EC는 위에서 import 한 건데, 원하는 게 나올 때까지 기다린다는 것임.\n",
    "    \n",
    "    #예외 처리 기능 : 해당 xpath가 없다면 TimeoutException을 실행함.\n",
    "    except TimeoutException:\n",
    "        driver.quit()\n",
    "        driver = selenium_chrome(url, headless_mode=True)\n",
    "        time.sleep(2)\n",
    "        \n",
    "        # TimeOut에러말고 다른 에러를 e로 받아와서 프린트해줌.\n",
    "    except Exception as e:\n",
    "        print(e)\n",
    "    \n",
    "    return driver"
   ]
  },
  {
   "cell_type": "code",
   "execution_count": null,
   "metadata": {},
   "outputs": [],
   "source": [
    "# 더보기 페이지로 이동\n",
    "driver.get(OverviewURL)\n",
    "\n",
    "# 기본정보 element나올때 까지 대기시키기. headless는 클릭기능x. url 새로 넣어서 OverviewURL이거로 들어감 이건 그 사이트에서 알아서.\n",
    "driver = driver_wait_XPATH(driver, XPATH = '//*[@id=\"root\"]/div/div[1]/section/section/header/div[2]/div', url=OverviewURL)"
   ]
  }
 ],
 "metadata": {
  "kernelspec": {
   "display_name": "Python 3",
   "language": "python",
   "name": "python3"
  },
  "language_info": {
   "codemirror_mode": {
    "name": "ipython",
    "version": 3
   },
   "file_extension": ".py",
   "mimetype": "text/x-python",
   "name": "python",
   "nbconvert_exporter": "python",
   "pygments_lexer": "ipython3",
   "version": "3.7.6"
  }
 },
 "nbformat": 4,
 "nbformat_minor": 4
}
